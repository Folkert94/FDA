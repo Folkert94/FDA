{
 "cells": [
  {
   "cell_type": "markdown",
   "metadata": {},
   "source": [
    "# Topic Modelling\n",
    "\n",
    "### 1. Strip the data from links & hashtags\n",
    "### 2. Apply Topic Modelling"
   ]
  },
  {
   "cell_type": "code",
   "execution_count": 1,
   "metadata": {},
   "outputs": [],
   "source": [
    "import pandas as pd\n",
    "import re\n",
    "\n",
    "df = pd.read_csv(\"data/tweets_by_state.csv\")\n",
    "df = df[[\"Unnamed: 0.1\", \"text\"]]\n",
    "\n",
    "def extract_text(text):\n",
    "    # stripping the text from mentions, links & hashtags\n",
    "    regex = r'https?://[^\\s<>\"]+|www\\.[^\\s<>\"]+|#([^\\s]+)|@([^\\s]+)'\n",
    "    text_wo_match = re.sub(regex, '', text)\n",
    "    return text_wo_match\n",
    "\n",
    "df['stripped'] = df['text'].apply(lambda tweet: extract_text(tweet))"
   ]
  },
  {
   "cell_type": "code",
   "execution_count": 2,
   "metadata": {},
   "outputs": [],
   "source": [
    "from nltk.corpus import stopwords \n",
    "from nltk.stem.wordnet import WordNetLemmatizer\n",
    "import string\n",
    "\n",
    "# Create a set of stopwords\n",
    "stop = set(stopwords.words('english'))\n",
    "\n",
    "# Create a set of punctuation words \n",
    "exclude = set(string.punctuation) \n",
    "\n",
    "# This is the function makeing the lemmatization\n",
    "lemma = WordNetLemmatizer()\n",
    "\n",
    "# In this function we perform the entire cleaning\n",
    "def clean(doc):\n",
    "    stop_free = \" \".join([i for i in doc.lower().split() if i not in stop])\n",
    "    punc_free = ''.join(ch for ch in stop_free if ch not in exclude)\n",
    "    normalized = \" \".join(lemma.lemmatize(word) for word in punc_free.split())\n",
    "    return normalized"
   ]
  },
  {
   "cell_type": "code",
   "execution_count": 3,
   "metadata": {},
   "outputs": [],
   "source": [
    "df['clean_text'] = df['stripped'].apply(lambda tweet: clean(tweet))\n",
    "df['clean_text'] = df['clean_text'].apply(lambda tweet: tweet.split(' '))"
   ]
  },
  {
   "cell_type": "code",
   "execution_count": 4,
   "metadata": {},
   "outputs": [],
   "source": [
    "def remove_amp(text):\n",
    "    # removes ampersands from the text\n",
    "    temp = text\n",
    "    while \"amp\" in temp:\n",
    "        temp.remove(\"amp\")\n",
    "        \n",
    "    return temp"
   ]
  },
  {
   "cell_type": "code",
   "execution_count": 5,
   "metadata": {},
   "outputs": [],
   "source": [
    "df['clean_text'] = df['clean_text'].apply(lambda tweet: remove_amp(tweet))"
   ]
  },
  {
   "cell_type": "code",
   "execution_count": 6,
   "metadata": {},
   "outputs": [],
   "source": [
    "import gensim\n",
    "from gensim import corpora\n",
    "\n",
    "# Creating the term dictionary of our courpus, where every unique term is assigned an index\n",
    "dictionary = corpora.Dictionary(df['clean_text'])\n",
    "\n",
    "# For the 5000 most frequent words, use filter_extremes method (https://stackoverflow.com/questions/36250297/how-to-map-the-word-in-data-frame-to-integer-id-with-python-pandas-and-gensim)\n",
    "dictionary.filter_extremes(no_below=1, no_above=1, keep_n=5000)\n",
    "\n",
    "#doc2bow method will get you the bag of words representation (word_id, frequency):\n",
    "df[\"bow\"] = df[\"clean_text\"].map(dictionary.doc2bow)"
   ]
  },
  {
   "cell_type": "code",
   "execution_count": 7,
   "metadata": {},
   "outputs": [
    {
     "name": "stdout",
     "output_type": "stream",
     "text": [
      "Wall time: 2h 10min 12s\n"
     ]
    }
   ],
   "source": [
    "# Creating the object for LDA model using gensim library\n",
    "Lda = gensim.models.ldamodel.LdaModel\n",
    "\n",
    "# Running and Trainign LDA model on the document term matrix.\n",
    "%time ldamodel = Lda(df['bow'], num_topics=5, id2word = dictionary, passes=100)"
   ]
  },
  {
   "cell_type": "code",
   "execution_count": 8,
   "metadata": {},
   "outputs": [
    {
     "name": "stdout",
     "output_type": "stream",
     "text": [
      "Topic 0 -> (0, '0.024*\"hillary\" + 0.020*\"clinton\" + 0.016*\"tax\" + 0.014*\"health\"')\n",
      "Topic 1 -> (1, '0.067*\"u\" + 0.028*\"2\" + 0.017*\"4\" + 0.017*\"world\"')\n",
      "Topic 2 -> (2, '0.033*\"trump\" + 0.014*\"vote\" + 0.013*\"see\" + 0.012*\"im\"')\n",
      "Topic 3 -> (3, '0.018*\"lie\" + 0.018*\"like\" + 0.017*\"say\" + 0.014*\"shit\"')\n",
      "Topic 4 -> (4, '0.030*\"hillary\" + 0.020*\"get\" + 0.019*\"deplorable\" + 0.018*\"trump\"')\n"
     ]
    }
   ],
   "source": [
    "topics = ldamodel.print_topics(num_topics=5, num_words=4)\n",
    "\n",
    "i=0\n",
    "for topic in topics:\n",
    "    print (\"Topic\",i ,\"->\", topic)     \n",
    "    i+=1"
   ]
  }
 ],
 "metadata": {
  "kernelspec": {
   "display_name": "Python 3",
   "language": "python",
   "name": "python3"
  },
  "language_info": {
   "codemirror_mode": {
    "name": "ipython",
    "version": 3
   },
   "file_extension": ".py",
   "mimetype": "text/x-python",
   "name": "python",
   "nbconvert_exporter": "python",
   "pygments_lexer": "ipython3",
   "version": "3.8.5"
  }
 },
 "nbformat": 4,
 "nbformat_minor": 4
}
